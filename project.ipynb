{
 "cells": [
  {
   "cell_type": "markdown",
   "id": "3702986f",
   "metadata": {},
   "source": [
    "# REQUIRED LIBRARIES INSTALLATION"
   ]
  },
  {
   "cell_type": "code",
   "execution_count": 1,
   "id": "dd6cb1b5",
   "metadata": {},
   "outputs": [
    {
     "name": "stdout",
     "output_type": "stream",
     "text": [
      "Collecting cmake\n",
      "  Downloading cmake-4.0.0-py3-none-win_amd64.whl.metadata (6.3 kB)\n",
      "Downloading cmake-4.0.0-py3-none-win_amd64.whl (36.7 MB)\n",
      "   ---------------------------------------- 0.0/36.7 MB ? eta -:--:--\n",
      "   ---------------------------------------- 0.0/36.7 MB ? eta -:--:--\n",
      "    --------------------------------------- 0.8/36.7 MB 4.2 MB/s eta 0:00:09\n",
      "   -- ------------------------------------- 2.1/36.7 MB 4.7 MB/s eta 0:00:08\n",
      "   --- ------------------------------------ 3.1/36.7 MB 5.0 MB/s eta 0:00:07\n",
      "   ---- ----------------------------------- 3.9/36.7 MB 4.9 MB/s eta 0:00:07\n",
      "   ----- ---------------------------------- 5.2/36.7 MB 4.8 MB/s eta 0:00:07\n",
      "   ------ --------------------------------- 6.0/36.7 MB 4.6 MB/s eta 0:00:07\n",
      "   ------- -------------------------------- 7.1/36.7 MB 4.8 MB/s eta 0:00:07\n",
      "   -------- ------------------------------- 7.9/36.7 MB 4.8 MB/s eta 0:00:06\n",
      "   ---------- ----------------------------- 9.2/36.7 MB 4.8 MB/s eta 0:00:06\n",
      "   ----------- ---------------------------- 10.2/36.7 MB 4.8 MB/s eta 0:00:06\n",
      "   ------------ --------------------------- 11.5/36.7 MB 4.9 MB/s eta 0:00:06\n",
      "   ------------- -------------------------- 12.6/36.7 MB 4.9 MB/s eta 0:00:05\n",
      "   -------------- ------------------------- 13.1/36.7 MB 4.9 MB/s eta 0:00:05\n",
      "   --------------- ------------------------ 14.4/36.7 MB 4.8 MB/s eta 0:00:05\n",
      "   ---------------- ----------------------- 15.5/36.7 MB 4.8 MB/s eta 0:00:05\n",
      "   ------------------ --------------------- 16.8/36.7 MB 4.9 MB/s eta 0:00:05\n",
      "   ------------------- -------------------- 17.8/36.7 MB 4.9 MB/s eta 0:00:04\n",
      "   -------------------- ------------------- 18.4/36.7 MB 4.9 MB/s eta 0:00:04\n",
      "   -------------------- ------------------- 19.1/36.7 MB 4.7 MB/s eta 0:00:04\n",
      "   ---------------------- ----------------- 20.2/36.7 MB 4.7 MB/s eta 0:00:04\n",
      "   ----------------------- ---------------- 21.2/36.7 MB 4.8 MB/s eta 0:00:04\n",
      "   ------------------------ --------------- 22.3/36.7 MB 4.8 MB/s eta 0:00:04\n",
      "   ------------------------- -------------- 23.6/36.7 MB 4.8 MB/s eta 0:00:03\n",
      "   -------------------------- ------------- 24.4/36.7 MB 4.8 MB/s eta 0:00:03\n",
      "   --------------------------- ------------ 25.2/36.7 MB 4.8 MB/s eta 0:00:03\n",
      "   ---------------------------- ----------- 26.2/36.7 MB 4.7 MB/s eta 0:00:03\n",
      "   ----------------------------- ---------- 26.7/36.7 MB 4.7 MB/s eta 0:00:03\n",
      "   ------------------------------ --------- 27.8/36.7 MB 4.6 MB/s eta 0:00:02\n",
      "   ------------------------------- -------- 28.8/36.7 MB 4.7 MB/s eta 0:00:02\n",
      "   -------------------------------- ------- 29.9/36.7 MB 4.7 MB/s eta 0:00:02\n",
      "   --------------------------------- ------ 30.9/36.7 MB 4.7 MB/s eta 0:00:02\n",
      "   ----------------------------------- ---- 32.2/36.7 MB 4.7 MB/s eta 0:00:01\n",
      "   ------------------------------------ --- 33.3/36.7 MB 4.7 MB/s eta 0:00:01\n",
      "   ------------------------------------- -- 34.3/36.7 MB 4.7 MB/s eta 0:00:01\n",
      "   -------------------------------------- - 35.4/36.7 MB 4.7 MB/s eta 0:00:01\n",
      "   ---------------------------------------  36.4/36.7 MB 4.7 MB/s eta 0:00:01\n",
      "   ---------------------------------------- 36.7/36.7 MB 4.6 MB/s eta 0:00:00\n",
      "Installing collected packages: cmake\n",
      "Successfully installed cmake-4.0.0\n",
      "Note: you may need to restart the kernel to use updated packages.\n"
     ]
    },
    {
     "name": "stderr",
     "output_type": "stream",
     "text": [
      "\n",
      "[notice] A new release of pip is available: 25.0.1 -> 25.1.1\n",
      "[notice] To update, run: python.exe -m pip install --upgrade pip\n"
     ]
    }
   ],
   "source": [
    "pip install cmake"
   ]
  },
  {
   "cell_type": "code",
   "execution_count": 2,
   "id": "3d6534a2",
   "metadata": {},
   "outputs": [
    {
     "name": "stdout",
     "output_type": "stream",
     "text": [
      "^C\n",
      "Note: you may need to restart the kernel to use updated packages.\n"
     ]
    }
   ],
   "source": [
    "pip install dlib"
   ]
  },
  {
   "cell_type": "code",
   "execution_count": 1,
   "id": "d3e34626",
   "metadata": {},
   "outputs": [
    {
     "name": "stdout",
     "output_type": "stream",
     "text": [
      "Collecting face-recognition\n",
      "  Using cached face_recognition-1.3.0-py2.py3-none-any.whl.metadata (21 kB)\n",
      "Collecting face-recognition-models>=0.3.0 (from face-recognition)\n",
      "  Using cached face_recognition_models-0.3.0.tar.gz (100.1 MB)\n",
      "  Preparing metadata (setup.py): started\n",
      "  Preparing metadata (setup.py): finished with status 'done'\n",
      "Requirement already satisfied: Click>=6.0 in c:\\users\\a06bh\\appdata\\roaming\\python\\python312\\site-packages (from face-recognition) (8.1.7)\n",
      "Collecting dlib>=19.7 (from face-recognition)\n",
      "  Using cached dlib-19.24.8.tar.gz (3.4 MB)\n",
      "  Preparing metadata (setup.py): started\n",
      "  Preparing metadata (setup.py): finished with status 'done'\n",
      "Requirement already satisfied: numpy in c:\\users\\a06bh\\.conda\\envs\\gpu\\lib\\site-packages (from face-recognition) (1.26.4)\n",
      "Requirement already satisfied: Pillow in c:\\users\\a06bh\\appdata\\roaming\\python\\python312\\site-packages (from face-recognition) (11.0.0)\n",
      "Requirement already satisfied: colorama in c:\\users\\a06bh\\appdata\\roaming\\python\\python312\\site-packages (from Click>=6.0->face-recognition) (0.4.6)\n",
      "Using cached face_recognition-1.3.0-py2.py3-none-any.whl (15 kB)\n",
      "Building wheels for collected packages: dlib, face-recognition-models\n",
      "  Building wheel for dlib (setup.py): started\n",
      "  Building wheel for dlib (setup.py): still running...\n",
      "  Building wheel for dlib (setup.py): still running...\n",
      "  Building wheel for dlib (setup.py): finished with status 'done'\n",
      "  Created wheel for dlib: filename=dlib-19.24.8-cp312-cp312-win_amd64.whl size=3177380 sha256=734c5ebc3a73570a8965585d9eda8df4e4df6a4e74271fafa400e75725f7bd6b\n",
      "  Stored in directory: c:\\users\\a06bh\\appdata\\local\\pip\\cache\\wheels\\45\\47\\c4\\f5c2cf6f3b4ab4f558f27375101ead0ef7f1861d5aa54f5f8c\n",
      "  Building wheel for face-recognition-models (setup.py): started\n",
      "  Building wheel for face-recognition-models (setup.py): finished with status 'done'\n",
      "  Created wheel for face-recognition-models: filename=face_recognition_models-0.3.0-py2.py3-none-any.whl size=100566178 sha256=57df69b32b04c779e554dc7c6045b4b76d86064a5c3bb6b4570135f32265a8c2\n",
      "  Stored in directory: c:\\users\\a06bh\\appdata\\local\\pip\\cache\\wheels\\8f\\47\\c8\\f44c5aebb7507f7c8a2c0bd23151d732d0f0bd6884ad4ac635\n",
      "Successfully built dlib face-recognition-models\n",
      "Installing collected packages: face-recognition-models, dlib, face-recognition\n",
      "Successfully installed dlib-19.24.8 face-recognition-1.3.0 face-recognition-models-0.3.0\n",
      "Note: you may need to restart the kernel to use updated packages.\n"
     ]
    },
    {
     "name": "stderr",
     "output_type": "stream",
     "text": [
      "\n",
      "[notice] A new release of pip is available: 25.0.1 -> 25.1.1\n",
      "[notice] To update, run: python.exe -m pip install --upgrade pip\n"
     ]
    }
   ],
   "source": [
    "pip install face-recognition"
   ]
  },
  {
   "cell_type": "code",
   "execution_count": 2,
   "id": "181c3edd",
   "metadata": {},
   "outputs": [
    {
     "name": "stdout",
     "output_type": "stream",
     "text": [
      "Collecting cvzone\n",
      "  Downloading cvzone-1.6.1.tar.gz (25 kB)\n",
      "  Preparing metadata (setup.py): started\n",
      "  Preparing metadata (setup.py): finished with status 'done'\n",
      "Requirement already satisfied: opencv-python in c:\\users\\a06bh\\.conda\\envs\\gpu\\lib\\site-packages (from cvzone) (4.11.0.86)\n",
      "Requirement already satisfied: numpy in c:\\users\\a06bh\\.conda\\envs\\gpu\\lib\\site-packages (from cvzone) (1.26.4)\n",
      "Building wheels for collected packages: cvzone\n",
      "  Building wheel for cvzone (setup.py): started\n",
      "  Building wheel for cvzone (setup.py): finished with status 'done'\n",
      "  Created wheel for cvzone: filename=cvzone-1.6.1-py3-none-any.whl size=26309 sha256=e725b286495da473577ea5b49977419894aeed3739cbf1b9155cd0c41c74b706\n",
      "  Stored in directory: c:\\users\\a06bh\\appdata\\local\\pip\\cache\\wheels\\5d\\21\\e8\\3147ae88d44e27f06e0175d337a7673c70fb957202cbbe2034\n",
      "Successfully built cvzone\n",
      "Installing collected packages: cvzone\n",
      "Successfully installed cvzone-1.6.1\n",
      "Note: you may need to restart the kernel to use updated packages.\n"
     ]
    },
    {
     "name": "stderr",
     "output_type": "stream",
     "text": [
      "\n",
      "[notice] A new release of pip is available: 25.0.1 -> 25.1.1\n",
      "[notice] To update, run: python.exe -m pip install --upgrade pip\n"
     ]
    }
   ],
   "source": [
    "pip install cvzone"
   ]
  },
  {
   "cell_type": "code",
   "execution_count": 1,
   "id": "329bca18",
   "metadata": {},
   "outputs": [
    {
     "name": "stdout",
     "output_type": "stream",
     "text": [
      "Requirement already satisfied: opencv-python in c:\\users\\a06bh\\.conda\\envs\\gpu\\lib\\site-packages (4.11.0.86)Note: you may need to restart the kernel to use updated packages.\n",
      "\n",
      "Requirement already satisfied: numpy>=1.21.2 in c:\\users\\a06bh\\.conda\\envs\\gpu\\lib\\site-packages (from opencv-python) (1.26.4)\n"
     ]
    },
    {
     "name": "stderr",
     "output_type": "stream",
     "text": [
      "\n",
      "[notice] A new release of pip is available: 25.0.1 -> 25.1.1\n",
      "[notice] To update, run: python.exe -m pip install --upgrade pip\n"
     ]
    }
   ],
   "source": [
    "pip install opencv-python"
   ]
  },
  {
   "cell_type": "markdown",
   "id": "a1f13d61",
   "metadata": {},
   "source": [
    "## CONNECTING WEBCAM"
   ]
  },
  {
   "cell_type": "code",
   "execution_count": 18,
   "id": "1c4309b9",
   "metadata": {},
   "outputs": [
    {
     "name": "stdout",
     "output_type": "stream",
     "text": [
      "Loaded mode images: 1\n"
     ]
    },
    {
     "ename": "KeyboardInterrupt",
     "evalue": "",
     "output_type": "error",
     "traceback": [
      "\u001b[1;31m---------------------------------------------------------------------------\u001b[0m",
      "\u001b[1;31mKeyboardInterrupt\u001b[0m                         Traceback (most recent call last)",
      "Cell \u001b[1;32mIn[18], line 26\u001b[0m\n\u001b[0;32m     23\u001b[0m mode_img_index \u001b[38;5;241m=\u001b[39m \u001b[38;5;241m0\u001b[39m    \u001b[38;5;66;03m# Index of the mode image to display\u001b[39;00m\n\u001b[0;32m     25\u001b[0m \u001b[38;5;28;01mwhile\u001b[39;00m \u001b[38;5;28;01mTrue\u001b[39;00m:\n\u001b[1;32m---> 26\u001b[0m     success, img \u001b[38;5;241m=\u001b[39m \u001b[43mcap\u001b[49m\u001b[38;5;241;43m.\u001b[39;49m\u001b[43mread\u001b[49m\u001b[43m(\u001b[49m\u001b[43m)\u001b[49m\n\u001b[0;32m     28\u001b[0m     \u001b[38;5;28;01mif\u001b[39;00m \u001b[38;5;129;01mnot\u001b[39;00m success:\n\u001b[0;32m     29\u001b[0m         \u001b[38;5;28mprint\u001b[39m(\u001b[38;5;124m\"\u001b[39m\u001b[38;5;124mFailed to capture webcam frame.\u001b[39m\u001b[38;5;124m\"\u001b[39m)\n",
      "\u001b[1;31mKeyboardInterrupt\u001b[0m: "
     ]
    }
   ],
   "source": [
    "import cv2\n",
    "import os\n",
    "\n",
    "# Initialize webcam\n",
    "cap = cv2.VideoCapture(0)\n",
    "cap.set(3, 640)  # Width\n",
    "cap.set(4, 480)  # Height\n",
    "\n",
    "# Load background image\n",
    "imgbg = cv2.imread('Resources/bg.png')\n",
    "\n",
    "# Load mode images from folder\n",
    "folderModePath = 'Resources/Modes'\n",
    "modePathList = os.listdir(folderModePath)\n",
    "imgModeList = [cv2.imread(os.path.join(folderModePath, path)) for path in modePathList]\n",
    "\n",
    "print(\"Loaded mode images:\", len(imgModeList))\n",
    "\n",
    "# Define webcam display size\n",
    "webcam_width = 480\n",
    "webcam_height = 360\n",
    "mode_img_width = 350  # You can adjust this\n",
    "mode_img_index = 0    # Index of the mode image to display\n",
    "\n",
    "while True:\n",
    "    success, img = cap.read()\n",
    "\n",
    "    if not success:\n",
    "        print(\"Failed to capture webcam frame.\")\n",
    "        break\n",
    "\n",
    "    # Resize webcam image\n",
    "    resized_img = cv2.resize(img, (webcam_width, webcam_height))\n",
    "\n",
    "    # Get background dimensions\n",
    "    bg_height, bg_width = imgbg.shape[:2]\n",
    "\n",
    "    # Calculate offsets to center webcam\n",
    "    x_off = (bg_width - webcam_width) // 2\n",
    "    y_off = (bg_height - webcam_height) // 2\n",
    "\n",
    "    # Calculate space to the right of the webcam image\n",
    "    available_width = bg_width - (x_off + webcam_width)\n",
    "    available_height = webcam_height  # Full height of webcam\n",
    "\n",
    "    if (\n",
    "        x_off >= 0 and y_off >= 0 and\n",
    "        x_off + webcam_width <= bg_width and\n",
    "        y_off + webcam_height <= bg_height and\n",
    "        available_width > 0\n",
    "    ):\n",
    "\n",
    "        # Place webcam image in center\n",
    "        imgbg[y_off:y_off + webcam_height, x_off:x_off + webcam_width] = resized_img\n",
    "\n",
    "        # Resize and place mode image on the right side\n",
    "        mode_img_resized = cv2.resize(imgModeList[mode_img_index], (mode_img_width, available_height))\n",
    "        imgbg[y_off:y_off+available_height, x_off + webcam_width:x_off + webcam_width + mode_img_width] = mode_img_resized\n",
    "\n",
    "        cv2.imshow(\"Face Recognition\", imgbg)\n",
    "    else:\n",
    "        print(\"Error: Webcam or mode image does not fit in background.\")\n",
    "        cv2.imshow(\"Face Recognition\", img)\n",
    "\n",
    "    cv2.imshow(\"Webcam\", img)\n",
    "    cv2.waitKey(1)\n",
    "       \n",
    "\n"
   ]
  },
  {
   "cell_type": "markdown",
   "id": "2e8964e3",
   "metadata": {},
   "source": [
    "## GRAPHICS"
   ]
  },
  {
   "cell_type": "code",
   "execution_count": 12,
   "id": "1e2d397d",
   "metadata": {},
   "outputs": [
    {
     "data": {
      "text/plain": [
       "(746, 1852, 3)"
      ]
     },
     "execution_count": 12,
     "metadata": {},
     "output_type": "execute_result"
    }
   ],
   "source": [
    "imgbg.shape"
   ]
  }
 ],
 "metadata": {
  "kernelspec": {
   "display_name": "Python 3",
   "language": "python",
   "name": "python3"
  },
  "language_info": {
   "codemirror_mode": {
    "name": "ipython",
    "version": 3
   },
   "file_extension": ".py",
   "mimetype": "text/x-python",
   "name": "python",
   "nbconvert_exporter": "python",
   "pygments_lexer": "ipython3",
   "version": "3.12.3"
  }
 },
 "nbformat": 4,
 "nbformat_minor": 5
}
